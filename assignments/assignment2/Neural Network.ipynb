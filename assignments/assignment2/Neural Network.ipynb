{
 "cells": [
  {
   "cell_type": "markdown",
   "metadata": {},
   "source": [
    "# Задание 2.1 - Нейронные сети\n",
    "\n",
    "В этом задании вы реализуете и натренируете настоящую нейроную сеть своими руками!\n",
    "\n",
    "В некотором смысле это будет расширением прошлого задания - нам нужно просто составить несколько линейных классификаторов вместе!\n",
    "\n",
    "<img src=\"https://i.redd.it/n9fgba8b0qr01.png\" alt=\"Stack_more_layers\" width=\"400px\"/>"
   ]
  },
  {
   "cell_type": "code",
   "execution_count": 16,
   "metadata": {},
   "outputs": [
    {
     "name": "stdout",
     "output_type": "stream",
     "text": [
      "The autoreload extension is already loaded. To reload it, use:\n",
      "  %reload_ext autoreload\n"
     ]
    }
   ],
   "source": [
    "import numpy as np\n",
    "import matplotlib.pyplot as plt\n",
    "\n",
    "%matplotlib inline\n",
    "\n",
    "%load_ext autoreload\n",
    "%autoreload 2"
   ]
  },
  {
   "cell_type": "code",
   "execution_count": 143,
   "metadata": {},
   "outputs": [],
   "source": [
    "from dataset import load_svhn, random_split_train_val\n",
    "from gradient_check import check_layer_gradient, check_layer_param_gradient, check_model_gradient\n",
    "from layers import FullyConnectedLayer, ReLULayer\n",
    "from model import TwoLayerNet\n",
    "from trainer import Trainer, Dataset\n",
    "from optim import SGD, MomentumSGD\n",
    "from metrics import multiclass_accuracy"
   ]
  },
  {
   "cell_type": "markdown",
   "metadata": {},
   "source": [
    "# Загружаем данные\n",
    "\n",
    "И разделяем их на training и validation."
   ]
  },
  {
   "cell_type": "code",
   "execution_count": 18,
   "metadata": {},
   "outputs": [
    {
     "name": "stdout",
     "output_type": "stream",
     "text": [
      " Volume in drive C is EPRUPETW1824\n",
      " Volume Serial Number is 4E55-CD70\n",
      "\n",
      " Directory of C:\\Users\\Ilya_Starikov\\PycharmProjects\\self-education\\dlcourse_ai\\assignments\\assignment1\n",
      "\n",
      "12/16/2019  12:42 PM    <DIR>          .\n",
      "12/16/2019  12:42 PM    <DIR>          ..\n",
      "12/11/2019  03:03 PM    <DIR>          .ipynb_checkpoints\n",
      "12/11/2019  03:03 PM    <DIR>          data\n",
      "11/26/2019  03:46 PM             2,259 dataset.py\n",
      "11/26/2019  03:46 PM               139 download_data.sh\n",
      "12/12/2019  05:58 PM             1,846 gradient_check.py\n",
      "11/27/2019  05:11 PM           156,834 KNN.ipynb\n",
      "11/27/2019  01:59 PM             5,704 knn.py\n",
      "12/16/2019  12:42 PM            50,020 Linear classifier.ipynb\n",
      "12/07/2019  11:00 AM             6,688 linear_classifer.py\n",
      "11/27/2019  04:58 PM             1,530 metrics.py\n",
      "11/26/2019  03:46 PM             1,093 README.md\n",
      "11/26/2019  03:46 PM                26 requirements.txt\n",
      "12/11/2019  03:03 PM    <DIR>          __pycache__\n",
      "              10 File(s)        226,139 bytes\n",
      "               5 Dir(s)  182,025,650,176 bytes free\n"
     ]
    }
   ],
   "source": [
    "!dir ..\\\\assignment1"
   ]
  },
  {
   "cell_type": "code",
   "execution_count": 4,
   "metadata": {},
   "outputs": [],
   "source": [
    "def prepare_for_neural_network(train_X, test_X):\n",
    "    train_flat = train_X.reshape(train_X.shape[0], -1).astype(np.float) / 255.0\n",
    "    test_flat = test_X.reshape(test_X.shape[0], -1).astype(np.float) / 255.0\n",
    "    \n",
    "    # Subtract mean\n",
    "    mean_image = np.mean(train_flat, axis = 0)\n",
    "    train_flat -= mean_image\n",
    "    test_flat -= mean_image\n",
    "    \n",
    "    return train_flat, test_flat\n",
    "FOLDER = '..\\\\assignment1\\\\data'\n",
    "train_X, train_y, test_X, test_y = load_svhn(FOLDER, max_train=10000, max_test=1000)    \n",
    "train_X, test_X = prepare_for_neural_network(train_X, test_X)\n",
    "# Split train into train and val\n",
    "train_X, train_y, val_X, val_y = random_split_train_val(train_X, train_y, num_val = 1000)"
   ]
  },
  {
   "cell_type": "markdown",
   "metadata": {},
   "source": [
    "# Как всегда, начинаем с кирпичиков\n",
    "\n",
    "Мы будем реализовывать необходимые нам слои по очереди. Каждый слой должен реализовать:\n",
    "- прямой проход (forward pass), который генерирует выход слоя по входу и запоминает необходимые данные\n",
    "- обратный проход (backward pass), который получает градиент по выходу слоя и вычисляет градиент по входу и по параметрам\n",
    "\n",
    "Начнем с ReLU, у которого параметров нет."
   ]
  },
  {
   "cell_type": "code",
   "execution_count": 139,
   "metadata": {},
   "outputs": [],
   "source": [
    "from layers import ReLULayer"
   ]
  },
  {
   "cell_type": "code",
   "execution_count": 6,
   "metadata": {},
   "outputs": [
    {
     "name": "stdout",
     "output_type": "stream",
     "text": [
      "Gradient check passed!\n"
     ]
    }
   ],
   "source": [
    "# TODO: Implement ReLULayer layer in layers.py\n",
    "# Note: you'll need to copy implementation of the gradient_check function from the previous assignment\n",
    "\n",
    "X = np.array([[1,-2,3],\n",
    "              [-1, 2, 0.1]\n",
    "              ])\n",
    "\n",
    "assert check_layer_gradient(ReLULayer(), X)"
   ]
  },
  {
   "cell_type": "markdown",
   "metadata": {
    "pycharm": {
     "name": "#%% md\n"
    }
   },
   "source": [
    "А теперь реализуем полносвязный слой (fully connected layer), у которого будет два массива параметров: W (weights) и B (bias).\n",
    "\n",
    "Все параметры наши слои будут использовать для параметров специальный класс `Param`, в котором будут храниться значения параметров и градиенты этих параметров, вычисляемые во время обратного прохода.\n",
    "\n",
    "Это даст возможность аккумулировать (суммировать) градиенты из разных частей функции потерь, например, из cross-entropy loss и regularization loss."
   ]
  },
  {
   "cell_type": "code",
   "execution_count": 7,
   "metadata": {},
   "outputs": [],
   "source": [
    "test = np.array([1,2,3,4])"
   ]
  },
  {
   "cell_type": "code",
   "execution_count": 8,
   "metadata": {},
   "outputs": [],
   "source": [
    "v = np.dot(test, 2)\n",
    "v2 = np.sum(test)"
   ]
  },
  {
   "cell_type": "code",
   "execution_count": null,
   "metadata": {},
   "outputs": [],
   "source": []
  },
  {
   "cell_type": "code",
   "execution_count": 140,
   "metadata": {
    "pycharm": {
     "name": "#%%\n"
    }
   },
   "outputs": [],
   "source": [
    "from layers import FullyConnectedLayer"
   ]
  },
  {
   "cell_type": "code",
   "execution_count": 141,
   "metadata": {},
   "outputs": [
    {
     "name": "stdout",
     "output_type": "stream",
     "text": [
      "Gradient check passed!\n",
      "\n",
      " dW\n",
      "Gradient check passed!\n",
      "\n",
      " dB\n",
      "Gradient check passed!\n"
     ]
    }
   ],
   "source": [
    "# TODO: Implement FullyConnected layer forward and backward methods\n",
    "assert check_layer_gradient(FullyConnectedLayer(3, 4), X)\n",
    "# TODO: Implement storing gradients for W and B\n",
    "print('\\n dW')\n",
    "assert check_layer_param_gradient(FullyConnectedLayer(3, 4), X, 'W')\n",
    "print('\\n dB')\n",
    "assert check_layer_param_gradient(FullyConnectedLayer(3, 4), X, 'B')"
   ]
  },
  {
   "cell_type": "markdown",
   "metadata": {
    "pycharm": {
     "name": "#%% md\n"
    }
   },
   "source": [
    "## Создаем нейронную сеть\n",
    "\n",
    "Теперь мы реализуем простейшую нейронную сеть с двумя полносвязным слоями и нелинейностью ReLU. Реализуйте функцию `compute_loss_and_gradients`, она должна запустить прямой и обратный проход через оба слоя для вычисления градиентов.\n",
    "\n",
    "Не забудьте реализовать очистку градиентов в начале функции."
   ]
  },
  {
   "cell_type": "code",
   "execution_count": 134,
   "metadata": {},
   "outputs": [
    {
     "name": "stdout",
     "output_type": "stream",
     "text": [
      "Checking gradient for FC1_W\n"
     ]
    },
    {
     "ename": "TypeError",
     "evalue": "unsupported operand type(s) for -: 'tuple' and 'tuple'",
     "output_type": "error",
     "traceback": [
      "\u001b[1;31m---------------------------------------------------------------------------\u001b[0m",
      "\u001b[1;31mTypeError\u001b[0m                                 Traceback (most recent call last)",
      "\u001b[1;32m<ipython-input-134-cb59275d7c70>\u001b[0m in \u001b[0;36m<module>\u001b[1;34m\u001b[0m\n\u001b[0;32m      4\u001b[0m \u001b[1;33m\u001b[0m\u001b[0m\n\u001b[0;32m      5\u001b[0m \u001b[1;31m# TODO Now implement backward pass and aggregate all of the params\u001b[0m\u001b[1;33m\u001b[0m\u001b[1;33m\u001b[0m\u001b[1;33m\u001b[0m\u001b[0m\n\u001b[1;32m----> 6\u001b[1;33m \u001b[0mcheck_model_gradient\u001b[0m\u001b[1;33m(\u001b[0m\u001b[0mmodel\u001b[0m\u001b[1;33m,\u001b[0m \u001b[0mtrain_X\u001b[0m\u001b[1;33m[\u001b[0m\u001b[1;33m:\u001b[0m\u001b[1;36m2\u001b[0m\u001b[1;33m]\u001b[0m\u001b[1;33m,\u001b[0m \u001b[0mtrain_y\u001b[0m\u001b[1;33m[\u001b[0m\u001b[1;33m:\u001b[0m\u001b[1;36m2\u001b[0m\u001b[1;33m]\u001b[0m\u001b[1;33m)\u001b[0m\u001b[1;33m\u001b[0m\u001b[1;33m\u001b[0m\u001b[0m\n\u001b[0m",
      "\u001b[1;32m~\\PycharmProjects\\self-education\\dlcourse_ai\\assignments\\assignment2\\gradient_check.py\u001b[0m in \u001b[0;36mcheck_model_gradient\u001b[1;34m(model, X, y, delta, tol, debug)\u001b[0m\n\u001b[0;32m    152\u001b[0m             \u001b[1;32mreturn\u001b[0m \u001b[0mloss\u001b[0m\u001b[1;33m,\u001b[0m \u001b[0mgrad\u001b[0m\u001b[1;33m\u001b[0m\u001b[1;33m\u001b[0m\u001b[0m\n\u001b[0;32m    153\u001b[0m \u001b[1;33m\u001b[0m\u001b[0m\n\u001b[1;32m--> 154\u001b[1;33m         \u001b[1;32mif\u001b[0m \u001b[1;32mnot\u001b[0m \u001b[0mcheck_gradient\u001b[0m\u001b[1;33m(\u001b[0m\u001b[0mhelper_func\u001b[0m\u001b[1;33m,\u001b[0m \u001b[0minitial_w\u001b[0m\u001b[1;33m,\u001b[0m \u001b[0mdelta\u001b[0m\u001b[1;33m,\u001b[0m \u001b[0mtol\u001b[0m\u001b[1;33m,\u001b[0m \u001b[0mdebug\u001b[0m\u001b[1;33m)\u001b[0m\u001b[1;33m:\u001b[0m\u001b[1;33m\u001b[0m\u001b[1;33m\u001b[0m\u001b[0m\n\u001b[0m\u001b[0;32m    155\u001b[0m             \u001b[1;32mreturn\u001b[0m \u001b[1;32mFalse\u001b[0m\u001b[1;33m\u001b[0m\u001b[1;33m\u001b[0m\u001b[0m\n\u001b[0;32m    156\u001b[0m \u001b[1;33m\u001b[0m\u001b[0m\n",
      "\u001b[1;32m~\\PycharmProjects\\self-education\\dlcourse_ai\\assignments\\assignment2\\gradient_check.py\u001b[0m in \u001b[0;36mcheck_gradient\u001b[1;34m(f, x, delta, tol, debug)\u001b[0m\n\u001b[0;32m     46\u001b[0m         \u001b[0mx_d_up\u001b[0m\u001b[1;33m[\u001b[0m\u001b[0mix\u001b[0m\u001b[1;33m]\u001b[0m \u001b[1;33m=\u001b[0m \u001b[0mx_d_up\u001b[0m\u001b[1;33m[\u001b[0m\u001b[0mix\u001b[0m\u001b[1;33m]\u001b[0m \u001b[1;33m+\u001b[0m \u001b[0mdelta\u001b[0m\u001b[1;33m\u001b[0m\u001b[1;33m\u001b[0m\u001b[0m\n\u001b[0;32m     47\u001b[0m         \u001b[0mfx_d_up\u001b[0m\u001b[1;33m,\u001b[0m \u001b[0m_\u001b[0m \u001b[1;33m=\u001b[0m \u001b[0mf\u001b[0m\u001b[1;33m(\u001b[0m\u001b[0mx_d_up\u001b[0m\u001b[1;33m)\u001b[0m\u001b[1;33m\u001b[0m\u001b[1;33m\u001b[0m\u001b[0m\n\u001b[1;32m---> 48\u001b[1;33m         \u001b[0mnumeric_grad_at_ix\u001b[0m \u001b[1;33m=\u001b[0m \u001b[1;33m(\u001b[0m\u001b[0mfx_d_up\u001b[0m \u001b[1;33m-\u001b[0m \u001b[0mfx_d_low\u001b[0m\u001b[1;33m)\u001b[0m \u001b[1;33m/\u001b[0m \u001b[1;33m(\u001b[0m\u001b[1;36m2\u001b[0m \u001b[1;33m*\u001b[0m \u001b[0mdelta\u001b[0m\u001b[1;33m)\u001b[0m\u001b[1;33m\u001b[0m\u001b[1;33m\u001b[0m\u001b[0m\n\u001b[0m\u001b[0;32m     49\u001b[0m \u001b[1;33m\u001b[0m\u001b[0m\n\u001b[0;32m     50\u001b[0m         \u001b[1;32mif\u001b[0m \u001b[0mdebug\u001b[0m\u001b[1;33m:\u001b[0m\u001b[1;33m\u001b[0m\u001b[1;33m\u001b[0m\u001b[0m\n",
      "\u001b[1;31mTypeError\u001b[0m: unsupported operand type(s) for -: 'tuple' and 'tuple'"
     ]
    }
   ],
   "source": [
    "# TODO: In model.py, implement compute_loss_and_gradients function\n",
    "model = TwoLayerNet(n_input = train_X.shape[1], n_output = 10, hidden_layer_size = 3, reg = 0)\n",
    "loss = model.compute_loss_and_gradients(train_X[:2], train_y[:2])\n",
    "\n",
    "# TODO Now implement backward pass and aggregate all of the params\n",
    "check_model_gradient(model, train_X[:2], train_y[:2])"
   ]
  },
  {
   "cell_type": "code",
   "execution_count": 12,
   "metadata": {
    "pycharm": {
     "name": "#%%\n"
    }
   },
   "outputs": [],
   "source": [
    "from gradient_check import check_gradient"
   ]
  },
  {
   "cell_type": "markdown",
   "metadata": {},
   "source": [
    "Теперь добавьте к модели регуляризацию - она должна прибавляться к loss и делать свой вклад в градиенты."
   ]
  },
  {
   "cell_type": "code",
   "execution_count": 14,
   "metadata": {},
   "outputs": [
    {
     "name": "stdout",
     "output_type": "stream",
     "text": [
      "Checking gradient for fc1_w\n",
      "Gradient check passed!\n",
      "Checking gradient for fc1_b\n",
      "Gradient check passed!\n",
      "Checking gradient for fc2_w\n",
      "Gradient check passed!\n",
      "Checking gradient for fc2_b\n",
      "Gradient check passed!\n"
     ]
    },
    {
     "data": {
      "text/plain": [
       "True"
      ]
     },
     "execution_count": 14,
     "metadata": {},
     "output_type": "execute_result"
    }
   ],
   "source": [
    "# TODO Now implement l2 regularization in the forward and backward pass\n",
    "model_with_reg = TwoLayerNet(n_input = train_X.shape[1], n_output = 10, hidden_layer_size = 3, reg = 1e1)\n",
    "loss_with_reg = model_with_reg.compute_loss_and_gradients(train_X[:2], train_y[:2])\n",
    "assert loss_with_reg > loss and not np.isclose(loss_with_reg, loss), \\\n",
    "    \"Loss with regularization (%2.4f) should be higher than without it (%2.4f)!\" % (loss, loss_with_reg)\n",
    "\n",
    "check_model_gradient(model_with_reg, train_X[:2], train_y[:2])"
   ]
  },
  {
   "cell_type": "markdown",
   "metadata": {},
   "source": [
    "Также реализуем функцию предсказания (вычисления значения) модели на новых данных.\n",
    "\n",
    "Какое значение точности мы ожидаем увидеть до начала тренировки?"
   ]
  },
  {
   "cell_type": "code",
   "execution_count": 19,
   "metadata": {},
   "outputs": [
    {
     "data": {
      "text/plain": [
       "0.1"
      ]
     },
     "execution_count": 19,
     "metadata": {},
     "output_type": "execute_result"
    }
   ],
   "source": [
    "# Finally, implement predict function!\n",
    "\n",
    "# TODO: Implement predict function\n",
    "# What would be the value we expect?\n",
    "multiclass_accuracy(model_with_reg.predict(train_X[:30]), train_y[:30]) "
   ]
  },
  {
   "cell_type": "markdown",
   "metadata": {},
   "source": [
    "# Допишем код для процесса тренировки\n",
    "\n",
    "Если все реализовано корректно, значение функции ошибки должно уменьшаться с каждой эпохой, пусть и медленно. Не беспокойтесь пока про validation accuracy."
   ]
  },
  {
   "cell_type": "code",
   "execution_count": 22,
   "metadata": {},
   "outputs": [
    {
     "data": {
      "text/plain": [
       "{'FC1_W': <layers.Param at 0x1fe68277488>,\n",
       " 'FC1_B': <layers.Param at 0x1fe682774c8>,\n",
       " 'FC2_W': <layers.Param at 0x1fe68277a08>,\n",
       " 'FC2_B': <layers.Param at 0x1fe68277e88>}"
      ]
     },
     "execution_count": 22,
     "metadata": {},
     "output_type": "execute_result"
    }
   ],
   "source": [
    "optim = {}\n",
    "for name, param in model.params().items():\n",
    "    optim[name] = "
   ]
  },
  {
   "cell_type": "code",
   "execution_count": 35,
   "metadata": {},
   "outputs": [
    {
     "name": "stdout",
     "output_type": "stream",
     "text": [
      "{'FC1_W': <layers.Param object at 0x000001FE021F2188>}\n",
      "{'FC1_B': <layers.Param object at 0x000001FE021F2FC8>}\n",
      "{'FC2_W': <layers.Param object at 0x000001FE021F2508>}\n",
      "{'FC2_B': <layers.Param object at 0x000001FE021F25C8>}\n"
     ]
    }
   ],
   "source": [
    "for n, p in model.params().items():\n",
    "    print({n: p})"
   ]
  },
  {
   "cell_type": "code",
   "execution_count": 55,
   "metadata": {},
   "outputs": [
    {
     "data": {
      "text/plain": [
       "1"
      ]
     },
     "execution_count": 55,
     "metadata": {},
     "output_type": "execute_result"
    }
   ],
   "source": [
    "1 % 3"
   ]
  },
  {
   "cell_type": "code",
   "execution_count": 284,
   "metadata": {},
   "outputs": [
    {
     "name": "stdout",
     "output_type": "stream",
     "text": [
      "Epoch: 0, Loss:2.302448, Train accuracy: 0.196667, val accuracy: 0.206000\n"
     ]
    }
   ],
   "source": [
    "model = TwoLayerNet(n_input = train_X.shape[1], n_output = 10, hidden_layer_size = 100, reg = 1e1)\n",
    "dataset = Dataset(train_X, train_y, val_X, val_y)\n",
    "trainer = Trainer(model, dataset, SGD(), learning_rate = 1e-2, num_epochs=5)\n",
    "\n",
    "# TODO Implement missing pieces in Trainer.fit function\n",
    "# You should expect loss to go down every epoch, even if it's slow\n",
    "loss_history, train_history, val_history = trainer.fit()"
   ]
  },
  {
   "cell_type": "code",
   "execution_count": 285,
   "metadata": {},
   "outputs": [
    {
     "data": {
      "text/plain": [
       "[<matplotlib.lines.Line2D at 0x1fe3c5f8ec8>]"
      ]
     },
     "execution_count": 285,
     "metadata": {},
     "output_type": "execute_result"
    },
    {
     "data": {
      "image/png": "[encoded data removed]",
      "text/plain": [
       "<Figure size 432x288 with 1 Axes>"
      ]
     },
     "metadata": {
      "needs_background": "light"
     },
     "output_type": "display_data"
    }
   ],
   "source": [
    "plt.plot(train_history)\n",
    "plt.plot(val_history)"
   ]
  },
  {
   "cell_type": "markdown",
   "metadata": {},
   "source": [
    "# Улучшаем процесс тренировки\n",
    "\n",
    "Мы реализуем несколько ключевых оптимизаций, необходимых для тренировки современных нейросетей."
   ]
  },
  {
   "cell_type": "markdown",
   "metadata": {},
   "source": [
    "## Уменьшение скорости обучения (learning rate decay)\n",
    "\n",
    "Одна из необходимых оптимизаций во время тренировки нейронных сетей - постепенное уменьшение скорости обучения по мере тренировки.\n",
    "\n",
    "Один из стандартных методов - уменьшение скорости обучения (learning rate) каждые N эпох на коэффициент d (часто называемый decay). Значения N и d, как всегда, являются гиперпараметрами и должны подбираться на основе эффективности на проверочных данных (validation data). \n",
    "\n",
    "В нашем случае N будет равным 1."
   ]
  },
  {
   "cell_type": "code",
   "execution_count": 115,
   "metadata": {},
   "outputs": [
    {
     "data": {
      "text/plain": [
       "0.01"
      ]
     },
     "execution_count": 115,
     "metadata": {},
     "output_type": "execute_result"
    }
   ],
   "source": [
    "initial_learning_rate"
   ]
  },
  {
   "cell_type": "code",
   "execution_count": 116,
   "metadata": {
    "collapsed": true,
    "jupyter": {
     "outputs_hidden": true
    }
   },
   "outputs": [
    {
     "name": "stdout",
     "output_type": "stream",
     "text": [
      "\n",
      " EPOCH: 0\n",
      "PREDICT STAGE\n",
      "train predict \n",
      "\n",
      "PREDICTION\n",
      "[ 597 1770 1334 1028  891  838  688  692  601  561]\n",
      "[   0 9000]\n",
      "val predict \n",
      "\n",
      "PREDICTION\n",
      "[ 49 206 140 147  93  90  78  76  61  60]\n",
      "[   0 1000]\n",
      "Epoch: 0, Loss:2.268982, Train accuracy: 0.196667, val accuracy: 0.206000\n",
      "\n",
      " EPOCH: 1\n",
      "PREDICT STAGE\n",
      "train predict \n",
      "\n",
      "PREDICTION\n",
      "[ 597 1770 1334 1028  891  838  688  692  601  561]\n",
      "[   0 9000]\n",
      "val predict \n",
      "\n",
      "PREDICTION\n",
      "[ 49 206 140 147  93  90  78  76  61  60]\n",
      "[   0 1000]\n",
      "Epoch: 1, Loss:2.265676, Train accuracy: 0.196667, val accuracy: 0.206000\n",
      "\n",
      " EPOCH: 2\n",
      "PREDICT STAGE\n",
      "train predict \n",
      "\n",
      "PREDICTION\n",
      "[ 597 1770 1334 1028  891  838  688  692  601  561]\n",
      "[   0 9000]\n",
      "val predict \n",
      "\n",
      "PREDICTION\n",
      "[ 49 206 140 147  93  90  78  76  61  60]\n",
      "[   0 1000]\n",
      "Epoch: 2, Loss:2.265125, Train accuracy: 0.196667, val accuracy: 0.206000\n",
      "\n",
      " EPOCH: 3\n",
      "PREDICT STAGE\n",
      "train predict \n",
      "\n",
      "PREDICTION\n",
      "[ 597 1770 1334 1028  891  838  688  692  601  561]\n",
      "[   0 9000]\n",
      "val predict \n",
      "\n",
      "PREDICTION\n",
      "[ 49 206 140 147  93  90  78  76  61  60]\n",
      "[   0 1000]\n",
      "Epoch: 3, Loss:2.279395, Train accuracy: 0.196667, val accuracy: 0.206000\n",
      "\n",
      " EPOCH: 4\n",
      "PREDICT STAGE\n",
      "train predict \n",
      "\n",
      "PREDICTION\n",
      "[ 597 1770 1334 1028  891  838  688  692  601  561]\n",
      "[   0 9000]\n",
      "val predict \n",
      "\n",
      "PREDICTION\n",
      "[ 49 206 140 147  93  90  78  76  61  60]\n",
      "[   0 1000]\n",
      "Epoch: 4, Loss:2.253603, Train accuracy: 0.196667, val accuracy: 0.206000\n"
     ]
    }
   ],
   "source": [
    "# TODO Implement learning rate decay inside Trainer.fit method\n",
    "# Decay should happen once per epoch\n",
    "\n",
    "model = TwoLayerNet(n_input = train_X.shape[1], n_output = 10, hidden_layer_size = 100, reg = 1e-1)\n",
    "dataset = Dataset(train_X, train_y, val_X, val_y)\n",
    "trainer = Trainer(model, dataset, SGD(), learning_rate_decay=0.99, num_epochs=5)\n",
    "\n",
    "initial_learning_rate = trainer.learning_rate\n",
    "loss_history, train_history, val_history = trainer.fit()\n",
    "\n",
    "assert trainer.learning_rate < initial_learning_rate, \"Learning rate should've been reduced\"\n",
    "assert trainer.learning_rate > 0.5*initial_learning_rate, \"Learning rate shouldn'tve been reduced that much!\""
   ]
  },
  {
   "cell_type": "code",
   "execution_count": 117,
   "metadata": {},
   "outputs": [],
   "source": [
    "from sklearn.preprocessing import normalize"
   ]
  },
  {
   "cell_type": "code",
   "execution_count": 119,
   "metadata": {},
   "outputs": [
    {
     "data": {
      "text/plain": [
       "(2, 3072)"
      ]
     },
     "execution_count": 119,
     "metadata": {},
     "output_type": "execute_result"
    }
   ],
   "source": [
    "train_X[:2].shape"
   ]
  },
  {
   "cell_type": "code",
   "execution_count": 120,
   "metadata": {},
   "outputs": [],
   "source": [
    "import matplotlib.pyplot as plt\n",
    "%matplotlib inline"
   ]
  },
  {
   "cell_type": "code",
   "execution_count": 130,
   "metadata": {},
   "outputs": [
    {
     "data": {
      "image/png": "[encoded data removed]",
      "text/plain": [
       "<Figure size 432x288 with 1 Axes>"
      ]
     },
     "metadata": {
      "needs_background": "light"
     },
     "output_type": "display_data"
    }
   ],
   "source": [
    "plt.hist(train_X[:20, 1]);"
   ]
  },
  {
   "cell_type": "code",
   "execution_count": 127,
   "metadata": {},
   "outputs": [],
   "source": [
    "norm_x = normalize(train_X[:20], axis=0)"
   ]
  },
  {
   "cell_type": "code",
   "execution_count": 129,
   "metadata": {},
   "outputs": [
    {
     "data": {
      "image/png": "[encoded data removed]",
      "text/plain": [
       "<Figure size 432x288 with 1 Axes>"
      ]
     },
     "metadata": {
      "needs_background": "light"
     },
     "output_type": "display_data"
    }
   ],
   "source": [
    "plt.hist(norm_x[1]);"
   ]
  },
  {
   "cell_type": "markdown",
   "metadata": {},
   "source": [
    "# Накопление импульса (Momentum SGD)\n",
    "\n",
    "Другой большой класс оптимизаций - использование более эффективных методов градиентного спуска. Мы реализуем один из них - накопление импульса (Momentum SGD).\n",
    "\n",
    "Этот метод хранит скорость движения, использует градиент для ее изменения на каждом шаге, и изменяет веса пропорционально значению скорости.\n",
    "(Физическая аналогия: Вместо скорости градиенты теперь будут задавать ускорение, но будет присутствовать сила трения.)\n",
    "\n",
    "```\n",
    "velocity = momentum * velocity - learning_rate * gradient \n",
    "w = w + velocity\n",
    "```\n",
    "\n",
    "`momentum` здесь коэффициент затухания, который тоже является гиперпараметром (к счастью, для него часто есть хорошее значение по умолчанию, типичный диапазон -- 0.8-0.99).\n",
    "\n",
    "Несколько полезных ссылок, где метод разбирается более подробно:  \n",
    "http://cs231n.github.io/neural-networks-3/#sgd  \n",
    "https://distill.pub/2017/momentum/"
   ]
  },
  {
   "cell_type": "code",
   "execution_count": 180,
   "metadata": {},
   "outputs": [
    {
     "name": "stdout",
     "output_type": "stream",
     "text": [
      "Epoch: 0, Loss:20.797530, Train accuracy: 0.171444, val accuracy: 0.175000\n",
      "Epoch: 5, Loss:9.949386, Train accuracy: 0.207222, val accuracy: 0.210000\n",
      "Epoch: 10, Loss:5.739296, Train accuracy: 0.203222, val accuracy: 0.208000\n",
      "Epoch: 15, Loss:3.779118, Train accuracy: 0.197778, val accuracy: 0.206000\n"
     ]
    }
   ],
   "source": [
    "# TODO: Implement MomentumSGD.update function in optim.py\n",
    "\n",
    "model = TwoLayerNet(n_input = train_X.shape[1], n_output = 10, hidden_layer_size = 100, reg = 1e-1)\n",
    "dataset = Dataset(train_X, train_y, val_X, val_y)\n",
    "trainer = Trainer(model, dataset, MomentumSGD(), learning_rate=1e-4, learning_rate_decay=0.99)\n",
    "\n",
    "# You should see even better results than before!\n",
    "loss_history, train_history, val_history = trainer.fit()"
   ]
  },
  {
   "cell_type": "markdown",
   "metadata": {},
   "source": [
    "# Ну что, давайте уже тренировать сеть!"
   ]
  },
  {
   "cell_type": "markdown",
   "metadata": {},
   "source": [
    "## Последний тест - переобучимся (overfit) на маленьком наборе данных\n",
    "\n",
    "Хороший способ проверить, все ли реализовано корректно - переобучить сеть на маленьком наборе данных.  \n",
    "Наша модель обладает достаточной мощностью, чтобы приблизить маленький набор данных идеально, поэтому мы ожидаем, что на нем мы быстро дойдем до 100% точности на тренировочном наборе. \n",
    "\n",
    "Если этого не происходит, то где-то была допущена ошибка!"
   ]
  },
  {
   "cell_type": "code",
   "execution_count": 176,
   "metadata": {},
   "outputs": [
    {
     "name": "stdout",
     "output_type": "stream",
     "text": [
      "Epoch: 0, Loss:22.661903, Train accuracy: 0.733333, val accuracy: 0.000000\n",
      "Epoch: 5, Loss:12.431909, Train accuracy: 0.933333, val accuracy: 0.000000\n",
      "Epoch: 10, Loss:7.495170, Train accuracy: 0.933333, val accuracy: 0.066667\n",
      "Epoch: 15, Loss:4.585588, Train accuracy: 1.000000, val accuracy: 0.000000\n",
      "Epoch: 20, Loss:3.359785, Train accuracy: 1.000000, val accuracy: 0.000000\n",
      "Epoch: 25, Loss:2.247959, Train accuracy: 1.000000, val accuracy: 0.000000\n",
      "Epoch: 30, Loss:1.929583, Train accuracy: 1.000000, val accuracy: 0.000000\n",
      "Epoch: 35, Loss:1.800376, Train accuracy: 1.000000, val accuracy: 0.000000\n",
      "Epoch: 40, Loss:1.702572, Train accuracy: 1.000000, val accuracy: 0.000000\n",
      "Epoch: 45, Loss:1.584264, Train accuracy: 1.000000, val accuracy: 0.000000\n",
      "Epoch: 50, Loss:1.479005, Train accuracy: 1.000000, val accuracy: 0.000000\n",
      "Epoch: 55, Loss:1.326876, Train accuracy: 1.000000, val accuracy: 0.000000\n",
      "Epoch: 60, Loss:1.370120, Train accuracy: 1.000000, val accuracy: 0.000000\n",
      "Epoch: 65, Loss:1.386965, Train accuracy: 1.000000, val accuracy: 0.000000\n",
      "Epoch: 70, Loss:1.253648, Train accuracy: 1.000000, val accuracy: 0.000000\n",
      "Epoch: 75, Loss:1.257592, Train accuracy: 1.000000, val accuracy: 0.000000\n",
      "Epoch: 80, Loss:1.126204, Train accuracy: 1.000000, val accuracy: 0.000000\n",
      "Epoch: 85, Loss:1.300829, Train accuracy: 1.000000, val accuracy: 0.000000\n",
      "Epoch: 90, Loss:1.462299, Train accuracy: 1.000000, val accuracy: 0.000000\n",
      "Epoch: 95, Loss:1.463050, Train accuracy: 1.000000, val accuracy: 0.000000\n",
      "Epoch: 100, Loss:1.249736, Train accuracy: 1.000000, val accuracy: 0.000000\n",
      "Epoch: 105, Loss:1.267205, Train accuracy: 1.000000, val accuracy: 0.000000\n",
      "Epoch: 110, Loss:1.168096, Train accuracy: 1.000000, val accuracy: 0.000000\n",
      "Epoch: 115, Loss:1.537601, Train accuracy: 1.000000, val accuracy: 0.000000\n",
      "Epoch: 120, Loss:1.257135, Train accuracy: 1.000000, val accuracy: 0.000000\n",
      "Epoch: 125, Loss:1.284173, Train accuracy: 1.000000, val accuracy: 0.000000\n",
      "Epoch: 130, Loss:1.435967, Train accuracy: 1.000000, val accuracy: 0.000000\n",
      "Epoch: 135, Loss:1.333513, Train accuracy: 1.000000, val accuracy: 0.000000\n",
      "Epoch: 140, Loss:1.325544, Train accuracy: 1.000000, val accuracy: 0.000000\n",
      "Epoch: 145, Loss:1.278924, Train accuracy: 1.000000, val accuracy: 0.000000\n"
     ]
    }
   ],
   "source": [
    "data_size = 15\n",
    "model = TwoLayerNet(n_input = train_X.shape[1], n_output = 10, hidden_layer_size = 100, reg = 1e-1)\n",
    "dataset = Dataset(train_X[:data_size], train_y[:data_size], val_X[:data_size], val_y[:data_size])\n",
    "trainer = Trainer(model, dataset, SGD(), learning_rate=1e-1, num_epochs=150, batch_size=5)\n",
    "\n",
    "# You should expect this to reach 1.0 training accuracy \n",
    "loss_history, train_history, val_history = trainer.fit()"
   ]
  },
  {
   "cell_type": "markdown",
   "metadata": {},
   "source": [
    "Теперь найдем гипепараметры, для которых этот процесс сходится быстрее.\n",
    "Если все реализовано корректно, то существуют параметры, при которых процесс сходится в **20** эпох или еще быстрее.\n",
    "Найдите их!"
   ]
  },
  {
   "cell_type": "code",
   "execution_count": 179,
   "metadata": {},
   "outputs": [
    {
     "name": "stdout",
     "output_type": "stream",
     "text": [
      "Epoch: 0, Loss:24.160133, Train accuracy: 0.400000, val accuracy: 0.266667\n",
      "Epoch: 5, Loss:15.720726, Train accuracy: 0.933333, val accuracy: 0.000000\n",
      "Epoch: 10, Loss:8.853191, Train accuracy: 1.000000, val accuracy: 0.000000\n",
      "Epoch: 15, Loss:4.677766, Train accuracy: 1.000000, val accuracy: 0.000000\n"
     ]
    }
   ],
   "source": [
    "# Now, tweak some hyper parameters and make it train to 1.0 accuracy in 20 epochs or less\n",
    "\n",
    "model = TwoLayerNet(n_input = train_X.shape[1], n_output = 10, hidden_layer_size = 100, reg = 1e-1)\n",
    "dataset = Dataset(train_X[:data_size], train_y[:data_size], val_X[:data_size], val_y[:data_size])\n",
    "# TODO: Change any hyperparamers or optimizators to reach training accuracy in 20 epochs\n",
    "trainer = Trainer(model, dataset, MomentumSGD(), learning_rate=1e-2, num_epochs=20, batch_size=5)\n",
    "\n",
    "loss_history, train_history, val_history = trainer.fit()"
   ]
  },
  {
   "cell_type": "markdown",
   "metadata": {},
   "source": [
    "# Итак, основное мероприятие!\n",
    "\n",
    "Натренируйте лучшую нейросеть! Можно добавлять и изменять параметры, менять количество нейронов в слоях сети и как угодно экспериментировать. \n",
    "\n",
    "Добейтесь точности лучше **60%** на validation set."
   ]
  },
  {
   "cell_type": "code",
   "execution_count": 260,
   "metadata": {},
   "outputs": [
    {
     "data": {
      "text/plain": [
       "array([[ 1. ,  2. , -3. ,  0. ],\n",
       "       [-2. ,  2. ,  0.5,  1. ],\n",
       "       [ 1. ,  1. ,  2. ,  0. ]])"
      ]
     },
     "execution_count": 260,
     "metadata": {},
     "output_type": "execute_result"
    }
   ],
   "source": [
    "x_test = np.array([[ 1,  2, -3,  0],\n",
    "                   [ -2,  2, 0.5,  1],\n",
    "                   [ 1,  1,  2,  0]])\n",
    "x_test"
   ]
  },
  {
   "cell_type": "code",
   "execution_count": 261,
   "metadata": {},
   "outputs": [
    {
     "data": {
      "text/plain": [
       "array([3.0000001 , 0.2500001 , 4.5000001 , 0.33333343])"
      ]
     },
     "execution_count": 261,
     "metadata": {},
     "output_type": "execute_result"
    }
   ],
   "source": [
    "np.mean((x_test - mean)**2, axis=0)+1e-7"
   ]
  },
  {
   "cell_type": "code",
   "execution_count": 262,
   "metadata": {},
   "outputs": [
    {
     "data": {
      "text/plain": [
       "array([[ 0.70710676,  0.70710662, -1.35244737, -0.70710662],\n",
       "       [-1.41421353,  0.70710662,  0.31822291,  1.41421324],\n",
       "       [ 0.70710676, -1.41421324,  1.03422446, -0.70710662]])"
      ]
     },
     "execution_count": 262,
     "metadata": {},
     "output_type": "execute_result"
    }
   ],
   "source": [
    "mean = np.mean(x_test, axis=0)  # shape == (X.shape[1], )\n",
    "sig = np.sqrt(np.mean((x_test - mean)**2, axis=0)+1e-7)\n",
    "out = (x_test - mean) / sig\n",
    "out"
   ]
  },
  {
   "cell_type": "code",
   "execution_count": 242,
   "metadata": {},
   "outputs": [
    {
     "data": {
      "text/plain": [
       "0.01"
      ]
     },
     "execution_count": 242,
     "metadata": {},
     "output_type": "execute_result"
    }
   ],
   "source": [
    "learning_rates = np.round(0.1**np.arange(1, 5), 8)\n",
    "lr = np.random.choice(learning_rates)\n",
    "lr"
   ]
  },
  {
   "cell_type": "code",
   "execution_count": 287,
   "metadata": {},
   "outputs": [
    {
     "name": "stdout",
     "output_type": "stream",
     "text": [
      "\n",
      "START\n",
      "PARAMS: lr - 0.01, reg_strenght - 0.001, batch size - 64, hidden_size - 100\n",
      "Epoch: 0, Loss:2.019098, Train accuracy: 0.388556, val accuracy: 0.402000\n",
      "Epoch: 5, Loss:1.278629, Train accuracy: 0.710889, val accuracy: 0.681000\n",
      "Epoch: 10, Loss:1.007386, Train accuracy: 0.766889, val accuracy: 0.736000\n",
      "Epoch: 15, Loss:1.146120, Train accuracy: 0.799444, val accuracy: 0.727000\n",
      "Epoch: 20, Loss:0.900739, Train accuracy: 0.829556, val accuracy: 0.758000\n",
      "Epoch: 25, Loss:0.825688, Train accuracy: 0.835889, val accuracy: 0.745000\n",
      "Epoch: 30, Loss:0.753128, Train accuracy: 0.859222, val accuracy: 0.764000\n",
      "Epoch: 35, Loss:0.653961, Train accuracy: 0.878222, val accuracy: 0.769000\n",
      "Epoch: 40, Loss:0.813306, Train accuracy: 0.870222, val accuracy: 0.757000\n",
      "Epoch: 45, Loss:0.705066, Train accuracy: 0.872889, val accuracy: 0.746000\n",
      "Epoch: 50, Loss:0.909892, Train accuracy: 0.897444, val accuracy: 0.767000\n",
      "Epoch: 55, Loss:0.705901, Train accuracy: 0.890000, val accuracy: 0.758000\n",
      "Epoch: 60, Loss:0.525649, Train accuracy: 0.901889, val accuracy: 0.774000\n",
      "Epoch: 65, Loss:0.892505, Train accuracy: 0.904556, val accuracy: 0.772000\n",
      "Epoch: 70, Loss:0.786702, Train accuracy: 0.908444, val accuracy: 0.769000\n",
      "Epoch: 75, Loss:0.823103, Train accuracy: 0.918000, val accuracy: 0.778000\n",
      "Epoch: 80, Loss:0.671818, Train accuracy: 0.915444, val accuracy: 0.784000\n",
      "Epoch: 85, Loss:0.588371, Train accuracy: 0.925667, val accuracy: 0.778000\n",
      "Epoch: 90, Loss:0.699594, Train accuracy: 0.896778, val accuracy: 0.759000\n",
      "Epoch: 95, Loss:0.780419, Train accuracy: 0.915222, val accuracy: 0.780000\n",
      "Epoch: 100, Loss:0.780795, Train accuracy: 0.929778, val accuracy: 0.777000\n",
      "\n",
      " NEW best val accuracy: 0.777 PARAMS: lr - 0.01, reg_strenght - 0.001, batch size - 64, hidden_size - 100\n",
      "END \n",
      "\n",
      "\n",
      "START\n",
      "PARAMS: lr - 0.01, reg_strenght - 0.001, batch size - 64, hidden_size - 128\n",
      "Epoch: 0, Loss:2.200783, Train accuracy: 0.386778, val accuracy: 0.381000\n",
      "Epoch: 5, Loss:1.638841, Train accuracy: 0.723778, val accuracy: 0.709000\n",
      "Epoch: 10, Loss:1.068959, Train accuracy: 0.765778, val accuracy: 0.723000\n",
      "Epoch: 15, Loss:0.875418, Train accuracy: 0.812667, val accuracy: 0.737000\n",
      "Epoch: 20, Loss:0.898835, Train accuracy: 0.836889, val accuracy: 0.759000\n",
      "Epoch: 25, Loss:0.882313, Train accuracy: 0.852000, val accuracy: 0.753000\n",
      "Epoch: 30, Loss:0.993517, Train accuracy: 0.872222, val accuracy: 0.763000\n",
      "Epoch: 35, Loss:0.612505, Train accuracy: 0.883333, val accuracy: 0.772000\n",
      "Epoch: 40, Loss:0.947915, Train accuracy: 0.890000, val accuracy: 0.760000\n",
      "Epoch: 45, Loss:0.720904, Train accuracy: 0.902778, val accuracy: 0.779000\n",
      "Epoch: 50, Loss:0.692910, Train accuracy: 0.911000, val accuracy: 0.772000\n",
      "Epoch: 55, Loss:0.698473, Train accuracy: 0.914444, val accuracy: 0.770000\n",
      "Epoch: 60, Loss:0.694419, Train accuracy: 0.922000, val accuracy: 0.773000\n",
      "Epoch: 65, Loss:0.912869, Train accuracy: 0.913889, val accuracy: 0.778000\n",
      "Epoch: 70, Loss:0.721754, Train accuracy: 0.920556, val accuracy: 0.770000\n",
      "Epoch: 75, Loss:0.717021, Train accuracy: 0.919444, val accuracy: 0.782000\n",
      "Epoch: 80, Loss:0.710950, Train accuracy: 0.932556, val accuracy: 0.784000\n",
      "Epoch: 85, Loss:0.796840, Train accuracy: 0.928222, val accuracy: 0.786000\n",
      "Epoch: 90, Loss:0.636642, Train accuracy: 0.920444, val accuracy: 0.766000\n",
      "Epoch: 95, Loss:0.687655, Train accuracy: 0.939000, val accuracy: 0.797000\n",
      "Epoch: 100, Loss:0.629003, Train accuracy: 0.937222, val accuracy: 0.788000\n",
      "\n",
      " NEW best val accuracy: 0.788 PARAMS: lr - 0.01, reg_strenght - 0.001, batch size - 64, hidden_size - 128\n",
      "END \n",
      "\n",
      "best validation accuracy achieved: 0.788000\n",
      "Best params: {'lr': 0.01, 'reg_strenght': 0.001, 'batch size': 64, 'hidden_size': 128}\n"
     ]
    }
   ],
   "source": [
    "# Let's train the best one-hidden-layer network we can\n",
    "\n",
    "learning_rates = [0.01]\n",
    "reg_strength = [0.001]  # np.round(0.1**np.arange(1, 5), 8)\n",
    "learning_rate_decay = 0.999  # 0.5 # 0.999\n",
    "hidden_layer_size = [100, 128]\n",
    "num_epochs = 101\n",
    "batch_size = [64]\n",
    "\n",
    "# add batch_normalization\n",
    "# add decy by epoch each 5 with lr/(1 + decay*epoch_n)  # do not work\n",
    "\n",
    "best_classifier = None\n",
    "best_val_accuracy = 0\n",
    "\n",
    "loss_history = []\n",
    "train_history = []\n",
    "val_history = []\n",
    "\n",
    "# TODO find the best hyperparameters to train the network\n",
    "# Don't hesitate to add new values to the arrays above, perform experiments, use any tricks you want\n",
    "# You should expect to get to at least 40% of valudation accuracy\n",
    "# Save loss/train/history of the best classifier to the variables above\n",
    "\n",
    "\n",
    "# for n in range(10):\n",
    "    \n",
    "for h in hidden_layer_size:\n",
    "    print(\"\\nSTART\")\n",
    "    lr = np.random.choice(learning_rates)\n",
    "    reg = np.random.choice(reg_strength)\n",
    "    batch = np.random.choice(batch_size)\n",
    "    hidden_size = h  # np.random.choice(hidden_layer_size)\n",
    "    print(f\"PARAMS: lr - {lr}, reg_strenght - {reg}, batch size - {batch}, hidden_size - {hidden_size}\")\n",
    "    \n",
    "    model = TwoLayerNet(n_input = train_X.shape[1], n_output=10, hidden_layer_size=hidden_size, reg=reg)\n",
    "    dataset = Dataset(train_X, train_y, val_X, val_y)\n",
    "    trainer = Trainer(model, dataset, MomentumSGD(),\n",
    "                      batch_size=batch,\n",
    "                      num_epochs=num_epochs, \n",
    "                      learning_rate=lr, \n",
    "                      learning_rate_decay=learning_rate_decay)\n",
    "\n",
    "    loss, train, val = trainer.fit()\n",
    "    \n",
    "    if val[-1] > best_val_accuracy:\n",
    "        print(f\"\\n NEW best val accuracy: {val[-1]} \"\n",
    "              f\"PARAMS: lr - {lr}, reg_strenght - {reg}, batch size - {batch}, hidden_size - {hidden_size}\")\n",
    "        best_val_accuracy = val[-1]\n",
    "        loss_history = loss\n",
    "        train_history = train\n",
    "        val_history = val\n",
    "        best_classifier = model\n",
    "        best_params = {'lr': lr,\n",
    "                       'reg_strenght': reg,\n",
    "                       'batch size': batch,\n",
    "                       'hidden_size': hidden_size}\n",
    "        \n",
    "    print(\"END \\n\")\n",
    "        \n",
    "\n",
    "# best_val_accuracy = np.max(val)\n",
    "print('best validation accuracy achieved: %f' % best_val_accuracy)\n",
    "print(f\"Best params: {best_params}\")"
   ]
  },
  {
   "cell_type": "code",
   "execution_count": 290,
   "metadata": {},
   "outputs": [
    {
     "data": {
      "image/png": "[encoded data removed]",
      "text/plain": [
       "<Figure size 1080x504 with 2 Axes>"
      ]
     },
     "metadata": {
      "needs_background": "light"
     },
     "output_type": "display_data"
    }
   ],
   "source": [
    "plt.figure(figsize=(15, 7))\n",
    "plt.subplot(211)\n",
    "plt.title(\"Loss\")\n",
    "plt.plot(loss_history)\n",
    "plt.subplot(212)\n",
    "plt.title(\"Train/validation accuracy\")\n",
    "plt.plot(train_history)\n",
    "plt.plot(val_history);"
   ]
  },
  {
   "cell_type": "markdown",
   "metadata": {},
   "source": [
    "# Как обычно, посмотрим, как наша лучшая модель работает на тестовых данных"
   ]
  },
  {
   "cell_type": "code",
   "execution_count": 289,
   "metadata": {},
   "outputs": [
    {
     "name": "stdout",
     "output_type": "stream",
     "text": [
      "Neural net test set accuracy: 0.757000\n"
     ]
    }
   ],
   "source": [
    "best_classifier = model\n",
    "test_pred = best_classifier.predict(test_X)\n",
    "test_accuracy = multiclass_accuracy(test_pred, test_y)\n",
    "print('Neural net test set accuracy: %f' % (test_accuracy, ))"
   ]
  },
  {
   "cell_type": "code",
   "execution_count": null,
   "metadata": {},
   "outputs": [],
   "source": []
  }
 ],
 "metadata": {
  "kernelspec": {
   "display_name": "Python 3",
   "language": "python",
   "name": "python3"
  },
  "language_info": {
   "codemirror_mode": {
    "name": "ipython",
    "version": 3
   },
   "file_extension": ".py",
   "mimetype": "text/x-python",
   "name": "python",
   "nbconvert_exporter": "python",
   "pygments_lexer": "ipython3",
   "version": "3.7.5"
  },
  "pycharm": {
   "stem_cell": {
    "cell_type": "raw",
    "metadata": {
     "collapsed": false
    },
    "source": []
   }
  }
 },
 "nbformat": 4,
 "nbformat_minor": 4
}
